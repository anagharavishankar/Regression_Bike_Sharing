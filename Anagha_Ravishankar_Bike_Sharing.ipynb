{
 "cells": [
  {
   "cell_type": "markdown",
   "id": "afa2b403",
   "metadata": {},
   "source": [
    "# Multiple Linear Regression - Bike Sharing"
   ]
  },
  {
   "cell_type": "markdown",
   "id": "d8bcf6a9",
   "metadata": {},
   "source": [
    "## Problem Statement:\n",
    "\n",
    "> BoomBikes, a US bike-sharing provider, has experienced significant revenue declines due to the COVID-19 pandemic. To recover from the economic downturn, they aim to develop a strategic plan to boost revenue once the lockdown restrictions are lifted and the economy stabilizes. In collaboration with a consulting company, BoomBikes seeks to analyze the demand for shared bikes post-quarantine across the American market. They aim to identify key factors influencing bike demand and understand their impact on the market.\n",
    "\n",
    "## Business Goal:\n",
    "\n",
    "> The objective is to develop a predictive model for bike demand using available independent variables. This model will enable management to comprehend demand variations and adjust business strategies accordingly to meet customer expectations. Additionally, the model will provide insights into demand dynamics in new markets, aiding in informed decision-making."
   ]
  },
  {
   "cell_type": "markdown",
   "id": "fda4a37c",
   "metadata": {},
   "source": [
    "# 1. Reading and Understanding Data"
   ]
  },
  {
   "cell_type": "markdown",
   "id": "4e288897",
   "metadata": {},
   "source": [
    "### i. Importing Libraries"
   ]
  },
  {
   "cell_type": "code",
   "execution_count": 1,
   "id": "99416dac",
   "metadata": {},
   "outputs": [],
   "source": [
    "import numpy as np\n",
    "import pandas as pd\n",
    "import matplotlib.pyplot as plt\n",
    "import seaborn as sns\n",
    "%matplotlib inline\n",
    "\n",
    "# scikit-learn libraries\n",
    "import sklearn\n",
    "from sklearn.model_selection import train_test_split\n",
    "from sklearn.preprocessing import MinMaxScaler\n",
    "from sklearn.metrics import r2_score, mean_squared_error\n",
    "from sklearn.linear_model import LinearRegression\n",
    "from sklearn.feature_selection import RFE\n",
    "\n",
    "# statsmodel libraries\n",
    "import statsmodels.api as sm\n",
    "from statsmodels.stats.outliers_influence import variance_inflation_factor\n",
    "\n",
    "# supress warnings\n",
    "import warnings\n",
    "warnings.filterwarnings('ignore')"
   ]
  },
  {
   "cell_type": "code",
   "execution_count": null,
   "id": "8d0c477a",
   "metadata": {},
   "outputs": [],
   "source": []
  }
 ],
 "metadata": {
  "kernelspec": {
   "display_name": "Python 3 (ipykernel)",
   "language": "python",
   "name": "python3"
  },
  "language_info": {
   "codemirror_mode": {
    "name": "ipython",
    "version": 3
   },
   "file_extension": ".py",
   "mimetype": "text/x-python",
   "name": "python",
   "nbconvert_exporter": "python",
   "pygments_lexer": "ipython3",
   "version": "3.11.5"
  }
 },
 "nbformat": 4,
 "nbformat_minor": 5
}
