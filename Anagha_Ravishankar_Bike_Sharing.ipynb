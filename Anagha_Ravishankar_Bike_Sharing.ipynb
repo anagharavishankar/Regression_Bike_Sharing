{
 "cells": [
  {
   "cell_type": "markdown",
   "id": "e969ceea",
   "metadata": {},
   "source": [
    "# Multiple Linear Regression - Bike Sharing"
   ]
  },
  {
   "cell_type": "markdown",
   "id": "c45309dc",
   "metadata": {},
   "source": [
    "## Problem Statement:\n",
    "\n",
    "> BoomBikes, a US bike-sharing provider, has experienced significant revenue declines due to the COVID-19 pandemic. To recover from the economic downturn, they aim to develop a strategic plan to boost revenue once the lockdown restrictions are lifted and the economy stabilizes. In collaboration with a consulting company, BoomBikes seeks to analyze the demand for shared bikes post-quarantine across the American market. They aim to identify key factors influencing bike demand and understand their impact on the market.\n",
    "\n",
    "## Business Goal:\n",
    "\n",
    "> The objective is to develop a predictive model for bike demand using available independent variables. This model will enable management to comprehend demand variations and adjust business strategies accordingly to meet customer expectations. Additionally, the model will provide insights into demand dynamics in new markets, aiding in informed decision-making."
   ]
  },
  {
   "cell_type": "code",
   "execution_count": null,
   "id": "9d1dda4c",
   "metadata": {},
   "outputs": [],
   "source": []
  }
 ],
 "metadata": {
  "kernelspec": {
   "display_name": "Python 3 (ipykernel)",
   "language": "python",
   "name": "python3"
  },
  "language_info": {
   "codemirror_mode": {
    "name": "ipython",
    "version": 3
   },
   "file_extension": ".py",
   "mimetype": "text/x-python",
   "name": "python",
   "nbconvert_exporter": "python",
   "pygments_lexer": "ipython3",
   "version": "3.11.5"
  }
 },
 "nbformat": 4,
 "nbformat_minor": 5
}
